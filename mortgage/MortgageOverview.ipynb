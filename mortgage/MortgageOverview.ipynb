{
 "cells": [
  {
   "cell_type": "code",
   "execution_count": null,
   "id": "c2eda11b-9ddd-49d1-bc40-f4c0c27c249a",
   "metadata": {},
   "outputs": [],
   "source": [
    "from main import calculate_mortgage, calculate_monthly_payment\n",
    "from plotting import plot_overview\n",
    "import plotly.graph_objects as go\n",
    "from ipywidgets import interact, widgets\n"
   ]
  },
  {
   "cell_type": "code",
   "execution_count": null,
   "id": "543000a1-4220-4e2d-ad03-5909840f8879",
   "metadata": {},
   "outputs": [],
   "source": [
    "def overview(interest_rate, loan_years, principal_amount):\n",
    "    years, remaining_principal, interest_paid_term = calculate_mortgage(\n",
    "        interest_rate=interest_rate, loan_years=loan_years, principal_amount=principal_amount)\n",
    "    \n",
    "    monthly_payment = calculate_monthly_payment(interest_rate=interest_rate, loan_years=loan_years, principal_amount=principal_amount)\n",
    "    \n",
    "    display(plot_overview(years=years, remaining_principal=remaining_principal, interest_paid_term=interest_paid_term, \n",
    "                  monthly_payment=monthly_payment))\n",
    "\n",
    "    display(monthly_payment)\n",
    "    \n",
    "interest_rate_w = widgets.FloatSlider(min=0,max=10, step=0.01, value=2.59, description='Interest term:')\n",
    "loan_years_w = widgets.IntSlider(min=1,max=40, step=1, value=30, description='Loan Years:')\n",
    "principal_amount_w = widgets.IntText(value=5167000, disabled=False, description='Principal:')\n",
    "\n",
    "interact(overview,\n",
    "         interest_rate=interest_rate_w, loan_years=loan_years_w, principal_amount=principal_amount_w);\n",
    "\n",
    "\n"
   ]
  },
  {
   "cell_type": "code",
   "execution_count": null,
   "id": "e22bfdec-5245-460f-8c1e-efe8bbda2acc",
   "metadata": {},
   "outputs": [],
   "source": []
  }
 ],
 "metadata": {
  "kernelspec": {
   "display_name": "Python 3 (ipykernel)",
   "language": "python",
   "name": "python3"
  },
  "language_info": {
   "codemirror_mode": {
    "name": "ipython",
    "version": 3
   },
   "file_extension": ".py",
   "mimetype": "text/x-python",
   "name": "python",
   "nbconvert_exporter": "python",
   "pygments_lexer": "ipython3",
   "version": "3.11.6"
  }
 },
 "nbformat": 4,
 "nbformat_minor": 5
}
